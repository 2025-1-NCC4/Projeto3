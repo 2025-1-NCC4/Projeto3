{
  "nbformat": 4,
  "nbformat_minor": 0,
  "metadata": {
    "colab": {
      "provenance": []
    },
    "kernelspec": {
      "name": "python3",
      "display_name": "Python 3"
    },
    "language_info": {
      "name": "python"
    }
  },
  "cells": [
    {
      "cell_type": "code",
      "execution_count": null,
      "metadata": {
        "colab": {
          "base_uri": "https://localhost:8080/"
        },
        "id": "FFX-U6n89TVb",
        "outputId": "4e299e01-0c7e-49f2-d17e-cd9cf03abab5"
      },
      "outputs": [
        {
          "output_type": "stream",
          "name": "stdout",
          "text": [
            "Collecting python-bcb\n",
            "  Downloading python_bcb-0.3.2-py3-none-any.whl.metadata (2.5 kB)\n",
            "Requirement already satisfied: httpx>=0.24.0 in /usr/local/lib/python3.11/dist-packages (from python-bcb) (0.28.1)\n",
            "Requirement already satisfied: lxml>=4.9.2 in /usr/local/lib/python3.11/dist-packages (from python-bcb) (5.3.1)\n",
            "Requirement already satisfied: pandas>=2.0.0 in /usr/local/lib/python3.11/dist-packages (from python-bcb) (2.2.2)\n",
            "Requirement already satisfied: requests>=2.31.0 in /usr/local/lib/python3.11/dist-packages (from python-bcb) (2.32.3)\n",
            "Requirement already satisfied: anyio in /usr/local/lib/python3.11/dist-packages (from httpx>=0.24.0->python-bcb) (3.7.1)\n",
            "Requirement already satisfied: certifi in /usr/local/lib/python3.11/dist-packages (from httpx>=0.24.0->python-bcb) (2025.1.31)\n",
            "Requirement already satisfied: httpcore==1.* in /usr/local/lib/python3.11/dist-packages (from httpx>=0.24.0->python-bcb) (1.0.7)\n",
            "Requirement already satisfied: idna in /usr/local/lib/python3.11/dist-packages (from httpx>=0.24.0->python-bcb) (3.10)\n",
            "Requirement already satisfied: h11<0.15,>=0.13 in /usr/local/lib/python3.11/dist-packages (from httpcore==1.*->httpx>=0.24.0->python-bcb) (0.14.0)\n",
            "Requirement already satisfied: numpy>=1.23.2 in /usr/local/lib/python3.11/dist-packages (from pandas>=2.0.0->python-bcb) (1.26.4)\n",
            "Requirement already satisfied: python-dateutil>=2.8.2 in /usr/local/lib/python3.11/dist-packages (from pandas>=2.0.0->python-bcb) (2.8.2)\n",
            "Requirement already satisfied: pytz>=2020.1 in /usr/local/lib/python3.11/dist-packages (from pandas>=2.0.0->python-bcb) (2025.1)\n",
            "Requirement already satisfied: tzdata>=2022.7 in /usr/local/lib/python3.11/dist-packages (from pandas>=2.0.0->python-bcb) (2025.1)\n",
            "Requirement already satisfied: charset-normalizer<4,>=2 in /usr/local/lib/python3.11/dist-packages (from requests>=2.31.0->python-bcb) (3.4.1)\n",
            "Requirement already satisfied: urllib3<3,>=1.21.1 in /usr/local/lib/python3.11/dist-packages (from requests>=2.31.0->python-bcb) (2.3.0)\n",
            "Requirement already satisfied: six>=1.5 in /usr/local/lib/python3.11/dist-packages (from python-dateutil>=2.8.2->pandas>=2.0.0->python-bcb) (1.17.0)\n",
            "Requirement already satisfied: sniffio>=1.1 in /usr/local/lib/python3.11/dist-packages (from anyio->httpx>=0.24.0->python-bcb) (1.3.1)\n",
            "Downloading python_bcb-0.3.2-py3-none-any.whl (19 kB)\n",
            "Installing collected packages: python-bcb\n",
            "Successfully installed python-bcb-0.3.2\n"
          ]
        }
      ],
      "source": [
        "!pip install python-bcb\n"
      ]
    },
    {
      "cell_type": "markdown",
      "source": [],
      "metadata": {
        "id": "BnlcIcNQ90Vs"
      }
    },
    {
      "cell_type": "code",
      "source": [
        "from bcb import sgs\n",
        "selic = sgs.get({'salario-minimo':1619}, start='1995-01-01')\n",
        "df=selic.reset_index()\n",
        "print(df)\n",
        "\n",
        "df.to_csv('Salario-minimo.csv')\n",
        "df.to_excel('Salario-minimo.xlsx')"
      ],
      "metadata": {
        "colab": {
          "base_uri": "https://localhost:8080/"
        },
        "id": "g9bkARYm-VM0",
        "outputId": "14374503-f050-4e4f-da93-f28fbec5f229"
      },
      "execution_count": null,
      "outputs": [
        {
          "output_type": "stream",
          "name": "stdout",
          "text": [
            "          Date  salario-minimo\n",
            "0   1995-01-01              70\n",
            "1   1995-02-01              70\n",
            "2   1995-03-01              70\n",
            "3   1995-04-01              70\n",
            "4   1995-05-01             100\n",
            "..         ...             ...\n",
            "358 2024-11-01            1412\n",
            "359 2024-12-01            1412\n",
            "360 2025-01-01            1518\n",
            "361 2025-02-01            1518\n",
            "362 2025-03-01            1518\n",
            "\n",
            "[363 rows x 2 columns]\n"
          ]
        }
      ]
    },
    {
      "cell_type": "code",
      "source": [
        "from bcb import sgs\n",
        "ICF = sgs.get({'Indicador de Consumo das Famílias (IBGE)':433}, start='1980-01-01')\n",
        "df=ICF.reset_index()\n",
        "print(df)\n",
        "\n",
        "df.to_csv('IPCA.csv')\n",
        "df.to_excel('IPCA.xlsx')"
      ],
      "metadata": {
        "colab": {
          "base_uri": "https://localhost:8080/"
        },
        "id": "JWy6w65A_7NO",
        "outputId": "8228657d-c7e9-4b05-a819-a1389d68cbef"
      },
      "execution_count": null,
      "outputs": [
        {
          "output_type": "stream",
          "name": "stdout",
          "text": [
            "          Date  Indicador de Consumo das Famílias (IBGE)\n",
            "0   1980-02-01                                      4.62\n",
            "1   1980-03-01                                      6.04\n",
            "2   1980-04-01                                      5.29\n",
            "3   1980-05-01                                      5.70\n",
            "4   1980-06-01                                      5.31\n",
            "..         ...                                       ...\n",
            "535 2024-09-01                                      0.44\n",
            "536 2024-10-01                                      0.56\n",
            "537 2024-11-01                                      0.39\n",
            "538 2024-12-01                                      0.52\n",
            "539 2025-01-01                                      0.16\n",
            "\n",
            "[540 rows x 2 columns]\n"
          ]
        }
      ]
    },
    {
      "cell_type": "code",
      "source": [
        "from bcb import sgs\n",
        "EF = sgs.get({'Endividamento das famílias':19882}, start='1995-01-01')\n",
        "df=EF.reset_index()\n",
        "print(df)\n",
        "\n",
        "df.to_csv('Endividamento das famílias.csv')\n",
        "df.to_excel('Endividamento das famílias.xlsx')"
      ],
      "metadata": {
        "colab": {
          "base_uri": "https://localhost:8080/"
        },
        "id": "-yeXZ1RlAKku",
        "outputId": "780ed923-d8e9-46e8-c976-cae77e70fbb9"
      },
      "execution_count": null,
      "outputs": [
        {
          "output_type": "stream",
          "name": "stdout",
          "text": [
            "          Date  Endividamento das famílias\n",
            "0   2005-01-01                       19.32\n",
            "1   2005-02-01                       19.69\n",
            "2   2005-03-01                       20.11\n",
            "3   2005-04-01                       20.55\n",
            "4   2005-05-01                       20.94\n",
            "..         ...                         ...\n",
            "195 2021-04-01                       58.27\n",
            "196 2021-05-01                       59.26\n",
            "197 2021-06-01                       59.55\n",
            "198 2021-07-01                       59.17\n",
            "199 2021-08-01                       59.90\n",
            "\n",
            "[200 rows x 2 columns]\n"
          ]
        }
      ]
    },
    {
      "cell_type": "code",
      "source": [
        "import pandas as pd\n",
        "\n",
        "# Carregar os arquivos CSV\n",
        "salario_minimo = pd.read_csv(\"Salario-minimo.csv\")\n",
        "ipca = pd.read_csv(\"IPCA.csv\")\n",
        "endividamento = pd.read_csv(\"Endividamento das famílias.csv\")\n",
        "\n",
        "# Remover espaços em branco dos nomes das colunas\n",
        "salario_minimo.columns = salario_minimo.columns.str.strip()\n",
        "ipca.columns = ipca.columns.str.strip()\n",
        "endividamento.columns = endividamento.columns.str.strip()\n",
        "\n",
        "# Renomear a coluna 'Date' para 'Data' para padronizar\n",
        "salario_minimo.rename(columns={\"Date\": \"Data\"}, inplace=True)\n",
        "ipca.rename(columns={\"Date\": \"Data\"}, inplace=True)\n",
        "endividamento.rename(columns={\"Date\": \"Data\"}, inplace=True)\n",
        "\n",
        "# Converter a coluna 'Data' para formato datetime para evitar problemas\n",
        "salario_minimo[\"Data\"] = pd.to_datetime(salario_minimo[\"Data\"])\n",
        "ipca[\"Data\"] = pd.to_datetime(ipca[\"Data\"])\n",
        "endividamento[\"Data\"] = pd.to_datetime(endividamento[\"Data\"])\n",
        "\n",
        "# Realizar a mesclagem dos datasets com base na coluna 'Data'\n",
        "dados = salario_minimo.merge(ipca, on=\"Data\").merge(endividamento, on=\"Data\")\n",
        "\n",
        "# Renomear colunas para maior clareza\n",
        "dados.rename(columns={\n",
        "    \"salario-minimo\": \"Salario_Minimo\",\n",
        "    \"Indicador de Consumo das Famílias (IBGE)\": \"IPCA\",\n",
        "    \"Endividamento das famílias\": \"Endividamento\"\n",
        "}, inplace=True)\n",
        "\n",
        "# Salvar o resultado em um novo arquivo CSV\n",
        "dados.to_csv(\"dados_mesclados.csv\", index=False)\n",
        "dados.to_excel(\"dados_mesclados.xlsx\", index=False)\n",
        "\n",
        "\n",
        "print(\"Planilha combinada salva como 'dados_mesclados.csv'\")\n",
        "\n"
      ],
      "metadata": {
        "id": "9QvfJDqeBtoH",
        "colab": {
          "base_uri": "https://localhost:8080/"
        },
        "outputId": "fe061944-ebc9-4fca-f42d-5cc811a3f77b"
      },
      "execution_count": null,
      "outputs": [
        {
          "output_type": "stream",
          "name": "stdout",
          "text": [
            "Planilha combinada salva como 'dados_mesclados.csv'\n"
          ]
        }
      ]
    }
  ]
}